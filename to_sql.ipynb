{
 "cells": [
  {
   "cell_type": "code",
   "execution_count": 1,
   "id": "b5b7287b",
   "metadata": {},
   "outputs": [],
   "source": [
    "import pandas as pd\n",
    "from sqlalchemy import create_engine\n",
    "from sqlalchemy import text\n",
    "import sqlite3\n",
    "import psycopg2"
   ]
  },
  {
   "cell_type": "code",
   "execution_count": 2,
   "id": "7d121d6f",
   "metadata": {},
   "outputs": [],
   "source": [
    "# Database Credentials\n",
    "user = \"postgres\"\n",
    "password = \"123456\"\n",
    "db_name = \"BIRD SPECIES OBSERVATORY\"\n",
    "host = \"localhost\""
   ]
  },
  {
   "cell_type": "code",
   "execution_count": 3,
   "id": "c3724dea",
   "metadata": {},
   "outputs": [],
   "source": [
    "# Defining Engine to Push data using SQLAlchemy\n",
    "sa_conn = f\"postgresql://{user}:{password}@{host}/{db_name}\"\n",
    "engine = create_engine(sa_conn)\n"
   ]
  },
  {
   "cell_type": "code",
   "execution_count": 4,
   "id": "b4828a3b",
   "metadata": {},
   "outputs": [
    {
     "data": {
      "text/plain": [
       "490"
      ]
     },
     "execution_count": 4,
     "metadata": {},
     "output_type": "execute_result"
    }
   ],
   "source": [
    "file1 = \"cleaned_forest_data.csv\"\n",
    "f1 = pd.read_csv(file1)\n",
    "# f1.columns.to_list() # Checking columns list\n",
    "f1.to_sql(\"forest_table\", engine, if_exists = \"append\", index=False)"
   ]
  },
  {
   "cell_type": "code",
   "execution_count": 5,
   "id": "f6a69132",
   "metadata": {},
   "outputs": [
    {
     "data": {
      "text/plain": [
       "490"
      ]
     },
     "execution_count": 5,
     "metadata": {},
     "output_type": "execute_result"
    }
   ],
   "source": [
    "file2 = \"cleaned_grassland_data.csv\"\n",
    "f2 = pd.read_csv(file1)\n",
    "f2.to_sql(\"grassland_table\", engine, if_exists = \"append\", index=False)"
   ]
  },
  {
   "cell_type": "code",
   "execution_count": 6,
   "id": "b76e8282",
   "metadata": {},
   "outputs": [
    {
     "data": {
      "text/plain": [
       "490"
      ]
     },
     "execution_count": 6,
     "metadata": {},
     "output_type": "execute_result"
    }
   ],
   "source": [
    "file3 = \"cleaned_combined_data.csv\"\n",
    "f3 = pd.read_csv(file1)\n",
    "f3.to_sql(\"combined_table\", engine, if_exists = \"append\", index=False)"
   ]
  }
 ],
 "metadata": {
  "kernelspec": {
   "display_name": ".venv",
   "language": "python",
   "name": "python3"
  },
  "language_info": {
   "codemirror_mode": {
    "name": "ipython",
    "version": 3
   },
   "file_extension": ".py",
   "mimetype": "text/x-python",
   "name": "python",
   "nbconvert_exporter": "python",
   "pygments_lexer": "ipython3",
   "version": "3.11.4"
  }
 },
 "nbformat": 4,
 "nbformat_minor": 5
}
